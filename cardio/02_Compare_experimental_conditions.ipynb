{
 "cells": [
  {
   "cell_type": "code",
   "execution_count": null,
   "id": "9d0bf899-2c17-4bbb-ac7e-d32c10cca224",
   "metadata": {},
   "outputs": [],
   "source": [
    "import pandas as pd\n",
    "import numpy as np\n",
    "import matplotlib.pyplot as plt\n",
    "import pingouin as pg\n",
    "import seaborn as sns\n",
    "import os"
   ]
  },
  {
   "cell_type": "code",
   "execution_count": null,
   "id": "067dff6d-9a1a-4001-99bf-7bbe858cc28c",
   "metadata": {},
   "outputs": [],
   "source": [
    "plt.figure()\n",
    "plt.xlim(0, 5)\n",
    "plt.ylim(0, 5)\n",
    "\n",
    "for i in range(0, 5):\n",
    "    #plt.axhspan(i, i+.2, facecolor='0.2', alpha=0.5)\n",
    "    plt.axvspan(i+.33, i+.66, facecolor='black', alpha=0.25)\n",
    "    plt.axvspan(i+.66, i+1, facecolor='black', alpha=0.50)\n",
    "\n",
    "plt.show()"
   ]
  },
  {
   "cell_type": "code",
   "execution_count": null,
   "id": "502adf10-65bc-496a-9644-43fd967fd485",
   "metadata": {},
   "outputs": [],
   "source": []
  },
  {
   "cell_type": "code",
   "execution_count": null,
   "id": "9f2805ba-e792-4b80-8d92-0f932467f306",
   "metadata": {},
   "outputs": [],
   "source": [
    "stim_order = ['10Hz_10ms_30s', '50Hz_15ms_30s', 'cst_30s']\n",
    "\n",
    "show = True\n",
    "\n",
    "d_dfs = pd.read_excel('/home/ds/DCL/Cardiac_opto/All_chat_mice.xlsx', sheet_name=None, index_col=0)\n",
    "\n",
    "key_delta, key_norm = d_dfs.keys()"
   ]
  },
  {
   "cell_type": "code",
   "execution_count": null,
   "id": "6ad87525-6672-496b-859d-2fe5a356925a",
   "metadata": {},
   "outputs": [],
   "source": [
    "stim_split = 'stimulus_id'\n",
    "\n",
    "session_split = 'session_id'\n",
    "session_order = [1, 2, 3, 4]\n",
    "\n",
    "position_split = 'position_id'\n",
    "position_order = [1, 2, 3]\n",
    "\n",
    "subject_split = 'subject_id'\n",
    "subject_order = None"
   ]
  },
  {
   "cell_type": "code",
   "execution_count": null,
   "id": "cdbe5a5b-0a12-4638-bdab-0abc39f484ad",
   "metadata": {},
   "outputs": [],
   "source": [
    "# x_split, x_order, hue_split, hue_order\n",
    "l_params = [(stim_split, stim_order, position_split, position_order),\n",
    "            (stim_split, stim_order, session_split, session_order),\n",
    "\n",
    "            (position_split, position_order, stim_split, stim_order),\n",
    "            (position_split, position_order, session_split, session_order)]\n",
    "\n",
    "            # Subject hue_splits:\n",
    "            #(stim_split, stim_order, subject_split, subject_order),\n",
    "            #(position_split, position_order, subject_split, subject_order),\n",
    "            #(session_split, session_order, subject_split, subject_order)]"
   ]
  },
  {
   "cell_type": "code",
   "execution_count": null,
   "id": "296a14c5-d111-4db8-ab6e-8d0af1a4161d",
   "metadata": {},
   "outputs": [],
   "source": [
    "for df_key in [key_delta]: # [key_norm, key_delta]:\n",
    "    if df_key == key_norm:\n",
    "        fixed_value = 1\n",
    "    else:\n",
    "        fixed_value = 0\n",
    "\n",
    "    df = d_dfs[df_key]\n",
    "    data_col = list(df.columns)[0]\n",
    "\n",
    "    for params in l_params:\n",
    "        x_split, x_order, hue_split, hue_order = params\n",
    "\n",
    "        if hue_split == 'subject_id':\n",
    "            hue_order = list(df[hue_split].unique())\n",
    "\n",
    "        splitted_groups = split_data_in_groups(df, data_col, x_split, x_order, hue_split, hue_order)\n",
    "        stat_results = one_sample_tests_per_group(splitted_groups, fixed_value)\n",
    "        d_annotations = annotations(stat_results, hue_order)\n",
    "        plot_annotated_data(df, data_col, x_split, x_order, hue_split, hue_order, fixed_value, d_annotations, show)"
   ]
  },
  {
   "cell_type": "code",
   "execution_count": null,
   "id": "a1c433cf-c6f2-42cf-88e8-42d45c0ef8c4",
   "metadata": {},
   "outputs": [],
   "source": []
  },
  {
   "cell_type": "code",
   "execution_count": null,
   "id": "5be67130-fdd3-4662-a8d9-80368ecc2a52",
   "metadata": {},
   "outputs": [],
   "source": []
  },
  {
   "cell_type": "code",
   "execution_count": null,
   "id": "319b4a69-6417-46c7-81b5-2de16c55a6fc",
   "metadata": {},
   "outputs": [],
   "source": [
    "def split_data_in_groups(df, data_col, x_split, x_order, hue_split, hue_order):\n",
    "    splitted_groups = {}\n",
    "    for x_group_id in x_order:\n",
    "        if x_group_id not in splitted_groups.keys():\n",
    "            splitted_groups[x_group_id] = {}\n",
    "        for hue_group_id in hue_order:\n",
    "            if df.loc[(df[x_split] == x_group_id) & (df[hue_split] == hue_group_id), data_col].shape[0] > 0:\n",
    "                if hue_group_id not in splitted_groups[x_group_id].keys():\n",
    "                    splitted_groups[x_group_id][hue_group_id] = {'data': np.array([]), \n",
    "                                                                 'stats': None,\n",
    "                                                                 'p-val': None, \n",
    "                                                                 'stars': None}\n",
    "                data = df.loc[(df[x_split] == x_group_id) & (df[hue_split] == hue_group_id), data_col].values\n",
    "                splitted_groups[x_group_id][hue_group_id]['data'] = np.append(splitted_groups[x_group_id][hue_group_id]['data'], data)\n",
    "    return splitted_groups"
   ]
  },
  {
   "cell_type": "code",
   "execution_count": null,
   "id": "a4376238-1db0-465f-a6a7-ce414581f1bc",
   "metadata": {},
   "outputs": [],
   "source": [
    "def one_sample_tests_per_group(splitted_groups, fixed_value):\n",
    "    for first_lvl_key in splitted_groups.keys():\n",
    "        for second_lvl_key in splitted_groups[first_lvl_key].keys():\n",
    "            df_test_results = pg.wilcoxon(splitted_groups[first_lvl_key][second_lvl_key]['data'] - fixed_value, correction = 'auto')\n",
    "            pval = df_test_results.loc['Wilcoxon', 'p-val']\n",
    "            if pval <= 0.001:\n",
    "                stars = '***'\n",
    "            elif pval <= 0.01:\n",
    "                stars = '**'\n",
    "            elif pval <= 0.05:\n",
    "                stars = '*'\n",
    "            else: \n",
    "                stars = 'n.s.'\n",
    "            splitted_groups[first_lvl_key][second_lvl_key]['stats'] = df_test_results.copy()\n",
    "            splitted_groups[first_lvl_key][second_lvl_key]['p-val'] = pval\n",
    "            splitted_groups[first_lvl_key][second_lvl_key]['stars'] = stars\n",
    "    return splitted_groups\n",
    "            "
   ]
  },
  {
   "cell_type": "code",
   "execution_count": null,
   "id": "dc15e855-cf31-43a9-9e83-7d5dbc2168d6",
   "metadata": {},
   "outputs": [],
   "source": [
    "stat_results[1].keys()"
   ]
  },
  {
   "cell_type": "code",
   "execution_count": null,
   "id": "24987215-b366-4283-9d4f-8340a9e34ec9",
   "metadata": {},
   "outputs": [],
   "source": [
    "l_first_lvl_keys"
   ]
  },
  {
   "cell_type": "code",
   "execution_count": null,
   "id": "6f9ffff4-1496-474e-8f01-192275b31093",
   "metadata": {},
   "outputs": [],
   "source": [
    "def annotations(stat_results, hue_order):\n",
    "    annotations = {}\n",
    "    group_id = 0\n",
    "    l_first_lvl_keys = list(stat_results.keys())\n",
    "    for first_lvl_key in l_first_lvl_keys:\n",
    "        group_x_coord = l_first_lvl_keys.index(first_lvl_key)\n",
    "        for second_lvl_key in stat_results[first_lvl_key].keys():\n",
    "            annotations[group_id] = {'p-val': stat_results[first_lvl_key][second_lvl_key]['p-val'],\n",
    "                                     'stars': stat_results[first_lvl_key][second_lvl_key]['stars']}\n",
    "            \n",
    "            if len(hue_order)%2 != 0:\n",
    "                step_size = 1 / (len(hue_order) + 1)\n",
    "                starting_x_coord = group_x_coord - 0.5\n",
    "                x_coord = starting_x_coord + step_size*(group_id + 1)\n",
    "                annotations[group_id]['x'] = x_coord\n",
    "            \n",
    "            elif len(hue_order)%2 == 0:\n",
    "                step_size = 0.8 / (len(hue_order)*2)\n",
    "                starting_x_coord = group_x_coord - 0.4\n",
    "                if group_id == 0:\n",
    "                    x_coord = starting_x_coord + step_size\n",
    "                    annotations[group_id]['x'] = x_coord\n",
    "                else:\n",
    "                    x_coord = starting_x_coord + step_size + group_id*step_size*2\n",
    "                    annotations[group_id]['x'] = x_coord\n",
    "        \n",
    "            group_id = group_id + 1\n",
    "    return annotations"
   ]
  },
  {
   "cell_type": "code",
   "execution_count": null,
   "id": "1a29e81c-0d44-4f90-bc41-d8e6dd17723c",
   "metadata": {},
   "outputs": [],
   "source": [
    "group_x_coord = 1\n",
    "\n",
    "hue_order = [1, 2, 3, 4, 5, 6, 7]\n",
    "\n",
    "if len(hue_order)%2 != 0:\n",
    "    step_size = 1 / (len(hue_order) + 1)\n",
    "    \n",
    "    starting_x_coord = group_x_coord - 0.5\n",
    "    \n",
    "    for hue_group_id in range(len(hue_order)):\n",
    "        x_coord = starting_x_coord + step_size*(hue_group_id + 1)\n",
    "        print(hue_group_id, x_coord)"
   ]
  },
  {
   "cell_type": "code",
   "execution_count": null,
   "id": "a65979c5-9f4f-4a37-b2ed-8a6dc4f49684",
   "metadata": {},
   "outputs": [],
   "source": [
    "step_size = 1 / (5+1)"
   ]
  },
  {
   "cell_type": "code",
   "execution_count": null,
   "id": "018e08f2-8b53-45a1-ab71-d484356a1a8a",
   "metadata": {},
   "outputs": [],
   "source": [
    "0.5 + 6*step_size"
   ]
  },
  {
   "cell_type": "code",
   "execution_count": null,
   "id": "ebc3a2ce-9220-4f2b-aeea-75c477f39927",
   "metadata": {},
   "outputs": [],
   "source": [
    "group_x_coord = 1\n",
    "\n",
    "hue_order = [1, 2]\n",
    "\n",
    "if len(hue_order)%2 == 0:\n",
    "    step_size = 0.8 / (len(hue_order)*2)\n",
    "    \n",
    "    starting_x_coord = group_x_coord - 0.4\n",
    "    \n",
    "    for hue_group_id in range(len(hue_order)):\n",
    "        if hue_group_id == 0:\n",
    "            x_coord = starting_x_coord + step_size\n",
    "            print(hue_group_id, x_coord)\n",
    "        else:\n",
    "            x_coord = starting_x_coord + step_size + hue_group_id*step_size*2\n",
    "            print(hue_group_id, x_coord)\n",
    "        \n",
    "        "
   ]
  },
  {
   "cell_type": "code",
   "execution_count": null,
   "id": "838c29a0-d310-4009-bd02-02e20fd3f45b",
   "metadata": {},
   "outputs": [],
   "source": [
    "def plot_annotated_data(df, data_col, x_split, x_order, hue_split, hue_order, fixed_value, d_annotations, show):\n",
    "\n",
    "    fig = plt.figure(figsize=(8, 5), facecolor='white')\n",
    "    ax = fig.add_subplot()\n",
    "    \n",
    "    for axis in ['top', 'right']:\n",
    "        ax.spines[axis].set_visible(False)\n",
    "        \n",
    "    sns.stripplot(data = df, x = x_split, y = data_col, order = x_order, hue = hue_split, hue_order = hue_order, dodge = True, s=7)   \n",
    "    \n",
    "    ylim_lower, ylim_upper = ax.get_ylim()\n",
    "    y_axis_span = ylim_upper - ylim_lower\n",
    "    y_stars = df[data_col].max() + y_axis_span*0.15\n",
    "    y_pval = df[data_col].max() + y_axis_span*0.1\n",
    "    ylim_upper_new = ylim_upper + y_axis_span*0.2\n",
    "\n",
    "    for key in d_annotations.keys():\n",
    "        plt.text(d_annotations[key]['x'], y_stars, d_annotations[key]['stars'], ha='center', va='bottom', color='k')\n",
    "        plt.text(d_annotations[key]['x'], y_pval, '({})'.format(str(round(d_annotations[key]['p-val'], 2))), ha='center', va='bottom', color='k')\n",
    "        \n",
    "    xlim_lower, xlim_upper = ax.get_xlim()\n",
    "    plt.hlines(fixed_value, xlim_lower, xlim_upper, colors='k')\n",
    "    plt.vlines(0.5, ylim_lower, ylim_upper_new, colors='grey', linestyle='dashed')\n",
    "    plt.vlines(1.5, ylim_lower, ylim_upper_new, colors='grey', linestyle='dashed')\n",
    "    \n",
    "    plt.ylim(ylim_lower, ylim_upper_new)\n",
    "    \n",
    "    plt.legend(loc='center left', title=hue_split, bbox_to_anchor=(1, 0.5), frameon=False)\n",
    "    \n",
    "    if fixed_value == 1:\n",
    "        norm = 'normalized'\n",
    "        plt.ylabel('{} HR [mean stim HR / mean baseline HR]'.format(norm))\n",
    "    else:\n",
    "        norm = 'delta'\n",
    "        plt.ylabel('{} HR [mean stim HR - mean baseline HR]'.format(norm))\n",
    "    \n",
    "    group_id = df['group_id'].unique()[0]\n",
    "    plt.title('{} - {}'.format(group_id, norm), pad=20) \n",
    "    \n",
    "    plt.tight_layout()\n",
    "    filename = os.getcwd() + '/Plots/{}_{}_per_{}_{}.png'.format(group_id, hue_split, x_split, norm)\n",
    "    #plt.savefig(filename, dpi=300)\n",
    "    if show:\n",
    "        plt.show()\n",
    "    else:\n",
    "        plt.close()\n",
    "    \n",
    "    "
   ]
  },
  {
   "cell_type": "code",
   "execution_count": null,
   "id": "b8ada4ec-b92e-484d-b8a1-c73bc205716e",
   "metadata": {},
   "outputs": [],
   "source": []
  },
  {
   "cell_type": "code",
   "execution_count": null,
   "id": "88986bcc-180b-4dd0-976c-6d28001c20a2",
   "metadata": {},
   "outputs": [],
   "source": []
  },
  {
   "cell_type": "code",
   "execution_count": null,
   "id": "36d04bb5-9dd9-4dd9-b61b-db7e154c14ac",
   "metadata": {},
   "outputs": [],
   "source": []
  },
  {
   "cell_type": "code",
   "execution_count": null,
   "id": "c181873d-e1e3-4e04-972f-4e3896c644a4",
   "metadata": {},
   "outputs": [],
   "source": []
  },
  {
   "cell_type": "code",
   "execution_count": null,
   "id": "550e9c2d-c887-44fc-88ca-78e97db17f2c",
   "metadata": {},
   "outputs": [],
   "source": []
  },
  {
   "cell_type": "code",
   "execution_count": null,
   "id": "c3559a84-e0b1-4912-ad86-bf47c1328136",
   "metadata": {
    "tags": []
   },
   "outputs": [],
   "source": [
    "#l_filenames = ['ResultsECG_Vglut1#910.xlsx', 'ResultsECG_Vglut2#1213.xlsx', 'ResultsECG_Chat#60-63.xlsx','Summary_median HCN4#123132.xlsx']\n",
    "\n",
    "l_filenames = ['ResultsECG_Vglut1#910.xlsx']\n",
    "#l_filenames = ['Summary_median HCN4#123132.xlsx']\n",
    "\n",
    "show = True\n",
    "\n",
    "for filename in l_filenames:\n",
    "    if filename == 'ResultsECG_Vglut2#1213.xlsx':\n",
    "        stim_order = ['10Hz_10ms_30s', '20Hz_10ms_30s', 'Cst_30s']\n",
    "    elif filename == 'ResultsECG_Vglut1#910.xlsx':\n",
    "        stim_order = ['10Hz_10ms_30s', '20Hz_10ms_30s', 'cst_30s']\n",
    "    elif filename == 'ResultsECG_Chat#60-63.xlsx':\n",
    "        stim_order = ['10Hz_10ms_30s', '50Hz_15ms_30s', 'cst_30s']\n",
    "    elif filename == 'Summary_median HCN4#123132.xlsx':\n",
    "        stim_order = ['15Hz_15ms_30s', '15Hz_30ms_30s', 'Cst_30s']\n",
    "    \n",
    "    stim_split = 'stimulus_id'\n",
    "\n",
    "    session_split = 'session_id'\n",
    "    session_order = [1, 2, 3, 4]\n",
    "\n",
    "    position_split = 'position_id'\n",
    "    position_order = [1, 2, 3]\n",
    "\n",
    "    subject_split = 'subject_id'\n",
    "    subject_order = None\n",
    "\n",
    "    # x_split, x_order, hue_split, hue_order\n",
    "    l_params = [(stim_split, stim_order, position_split, position_order),\n",
    "                (stim_split, stim_order, session_split, session_order),\n",
    "\n",
    "                (position_split, position_order, stim_split, stim_order),\n",
    "                (position_split, position_order, session_split, session_order),\n",
    "\n",
    "                # Subject hue_splits:\n",
    "                (stim_split, stim_order, subject_split, subject_order),\n",
    "                (position_split, position_order, subject_split, subject_order),\n",
    "                (session_split, session_order, subject_split, subject_order)]\n",
    "    \n",
    "    filedir = '/home/ds/DCL/Cardiac_opto/Compare_experimental_conditions_data/'\n",
    "    d_dfs = pd.read_excel(filedir + filename, sheet_name=None, index_col=0)\n",
    "\n",
    "    key_overview, key_norm, key_delta = d_dfs.keys()\n",
    "    for df_key in [key_norm, key_delta]:\n",
    "        if df_key == key_norm:\n",
    "            fixed_value = 1\n",
    "        else:\n",
    "            fixed_value = 0\n",
    "\n",
    "        df = d_dfs[df_key]\n",
    "        data_col = list(df.columns)[0]\n",
    "\n",
    "        for params in l_params:\n",
    "            x_split, x_order, hue_split, hue_order = params\n",
    "\n",
    "            if hue_split == 'subject_id':\n",
    "                hue_order = list(df[hue_split].unique())\n",
    "\n",
    "            splitted_groups = split_data_in_groups(df, data_col, x_split, x_order, hue_split, hue_order)\n",
    "            stat_results = one_sample_tests_per_group(splitted_groups, fixed_value)\n",
    "            d_annotations = annotations(stat_results, hue_order)\n",
    "            plot_annotated_data(df, data_col, x_split, x_order, hue_split, hue_order, fixed_value, d_annotations, show)"
   ]
  },
  {
   "cell_type": "markdown",
   "id": "4a42fc13-c814-4530-a49f-5e17bf9f796e",
   "metadata": {},
   "source": [
    "# More detailed look at responders"
   ]
  },
  {
   "cell_type": "code",
   "execution_count": null,
   "id": "c279c9ad-83b9-49c9-90a0-ae4b2b94830c",
   "metadata": {},
   "outputs": [],
   "source": [
    "session_split = 'session_id'\n",
    "session_order = [1, 2, 3, 4, 5]\n",
    "\n",
    "position_split = 'position_id'\n",
    "position_order = [1, 2, 3]\n",
    "\n",
    "subject_split = 'subject_id'\n",
    "subject_order = None"
   ]
  },
  {
   "cell_type": "code",
   "execution_count": null,
   "id": "7b923841-2682-47ef-ab8f-dcdee2feb34c",
   "metadata": {},
   "outputs": [],
   "source": [
    "\n",
    "d_dfs = pd.read_excel('All_chat_mice.xlsx', sheet_name=None, index_col=0)  \n",
    "key_delta, key_norm = d_dfs.keys()\n",
    "for key in [key_norm, key_delta]:\n",
    "    df = d_dfs[key]\n",
    "    for subject_id in df['subject_id'].unique():\n",
    "        if subject_id in ['#13', '#15']:\n",
    "            df_temp = df.loc[df['subject_id'] == subject_id]\n",
    "            data_col = df_temp.columns[0]\n",
    "            group_id = df_temp.group_id.unique()[0]\n",
    "\n",
    "            fig = plt.figure(figsize=(7, 4.375), facecolor='white')\n",
    "            ax = fig.add_subplot()\n",
    "\n",
    "            for axis in ['top', 'right']:\n",
    "                ax.spines[axis].set_visible(False)\n",
    "\n",
    "            sns.stripplot(data=df_temp, x='stimulus_id', y=data_col, hue='position_id', dodge=True, s=10, palette='viridis',\n",
    "                         order=['10Hz_10ms_30s', '50Hz_15ms_30s', 'cst_30s'], hue_order=[1, 2, 3])\n",
    "            if key == key_norm:\n",
    "                fixed_val = 1\n",
    "                norm = 'normalized'\n",
    "                plt.ylabel('{} HR [mean stim HR / mean baseline HR]'.format(norm))\n",
    "            elif key == key_delta:\n",
    "                fixed_val = 0\n",
    "                norm = 'delta'\n",
    "                plt.ylabel('{} HR [mean stim HR - mean baseline HR]'.format(norm))\n",
    "\n",
    "            x0, x1 = ax.get_xlim()\n",
    "            y0, y1 = ax.get_ylim()\n",
    "            plt.ylim(y0, y1)\n",
    "\n",
    "            plt.hlines(fixed_val, x0, x1, color='k')\n",
    "            plt.vlines(0.5, y0, y1, color='gray', linestyle='dashed')\n",
    "            plt.vlines(1.5, y0, y1, color='gray', linestyle='dashed')\n",
    "\n",
    "            #for i in [-0.5, 0.5, 1.5]:\n",
    "                #plt.axvspan(i+.33, i+.66, facecolor='black', alpha=0.25)\n",
    "                #plt.axvspan(i+.66, i+1, facecolor='black', alpha=0.50)\n",
    "\n",
    "            plt.legend(loc='center left', title='position_id', bbox_to_anchor=(1, 0.5), frameon=False)\n",
    "            plt.title('{}: mouse {} - {}'.format(group_id, subject_id, norm))\n",
    "            plt.tight_layout()\n",
    "            img_filename = os.getcwd() + '/Plots/Responders/Chat-Cre/{}_mouse{}_positionID_per_stimulusID_{}.png'.format(group_id, subject_id, norm)\n",
    "            plt.savefig(img_filename, dpi=300)\n",
    "            plt.show()\n",
    "        print('\\n \\n')"
   ]
  },
  {
   "cell_type": "markdown",
   "id": "6a0f90ab-760a-42e5-9bbe-ab0d060726b5",
   "metadata": {},
   "source": [
    "# Varianzanalyse"
   ]
  },
  {
   "cell_type": "code",
   "execution_count": null,
   "id": "23a09c84-36b1-4d94-9417-1d89e834e5f5",
   "metadata": {},
   "outputs": [],
   "source": [
    "l_filenames = ['ResultsECG_Vglut1#910.xlsx', 'ResultsECG_Vglut2#1213.xlsx', 'ResultsECG_Chat#60-63.xlsx','Summary_median HCN4#123132.xlsx']\n",
    "\n",
    "l_norm_dfs = []\n",
    "l_delta_dfs = []\n",
    "\n",
    "for filename in l_filenames:\n",
    "    filedir = '/home/ds/DCL/Cardiac_opto/Compare_experimental_conditions_data/'\n",
    "    d_dfs = pd.read_excel(filedir + filename, sheet_name=None, index_col=0)    \n",
    "    \n",
    "    key_overview, key_norm, key_delta = d_dfs.keys()\n",
    "    l_cols = list(d_dfs[key_norm].columns)\n",
    "    l_cols[0] = 'data'\n",
    "    d_dfs[key_norm].columns = l_cols\n",
    "    d_dfs[key_delta].columns = l_cols\n",
    "    l_norm_dfs.append(d_dfs[key_norm])\n",
    "    l_delta_dfs.append(d_dfs[key_delta])\n",
    "    \n",
    "df_norm = pd.concat(l_norm_dfs, axis=0)\n",
    "df_delta = pd.concat(l_delta_dfs, axis=0)"
   ]
  },
  {
   "cell_type": "code",
   "execution_count": null,
   "id": "77107820-6dc9-4661-8935-a8bfae3cf2e9",
   "metadata": {},
   "outputs": [],
   "source": [
    "fig = plt.figure(figsize=(8, 6), facecolor='white')\n",
    "ax = fig.add_subplot()\n",
    "\n",
    "for axis in ['top', 'right']:\n",
    "    ax.spines[axis].set_visible(False)\n",
    "\n",
    "sns.stripplot(data=df_delta, x='position_id', y='data', s=7)\n",
    "\n",
    "x0, x1 = ax.get_xlim()\n",
    "y0, y1 = ax.get_ylim()\n",
    "plt.ylim(y0, y1)\n",
    "plt.ylabel('delta HR [mean stim HR - mean baseline HR]')\n",
    "plt.hlines(0, x0, x1, color='k')\n",
    "plt.vlines(0.5, y0, y1, color='gray', linestyle='dashed')\n",
    "plt.vlines(1.5, y0, y1, color='gray', linestyle='dashed')\n",
    "plt.title('all data - delta')\n",
    "plt.tight_layout()\n",
    "img_filename = os.getcwd() + '/Plots/Variance/all_data_per_positionID_delta_stripplot.png'\n",
    "plt.savefig(img_filename, dpi=300)\n",
    "plt.show()"
   ]
  },
  {
   "cell_type": "code",
   "execution_count": null,
   "id": "eb255436-5491-4b03-b802-6c2a12380f79",
   "metadata": {},
   "outputs": [],
   "source": [
    "fig = plt.figure(figsize=(8, 6), facecolor='white')\n",
    "ax = fig.add_subplot()\n",
    "\n",
    "for axis in ['top', 'right']:\n",
    "    ax.spines[axis].set_visible(False)\n",
    "\n",
    "sns.stripplot(data=df_delta, x='position_id', y='data', color='k', alpha=0.5, s=7)\n",
    "sns.violinplot(data=df_delta, x='position_id', y='data')\n",
    "\n",
    "x0, x1 = ax.get_xlim()\n",
    "y0, y1 = ax.get_ylim()\n",
    "plt.ylim(y0, y1)\n",
    "plt.ylabel('delta HR [mean stim HR - mean baseline HR]')\n",
    "plt.hlines(0, x0, x1, color='k')\n",
    "plt.vlines(0.5, y0, y1, color='gray', linestyle='dashed')\n",
    "plt.vlines(1.5, y0, y1, color='gray', linestyle='dashed')\n",
    "plt.title('all data - delta')\n",
    "plt.tight_layout()\n",
    "img_filename = os.getcwd() + '/Plots/Variance/all_data_per_positionID_delta_violinplot.png'\n",
    "plt.savefig(img_filename, dpi=300)\n",
    "plt.show()"
   ]
  },
  {
   "cell_type": "code",
   "execution_count": null,
   "id": "9cc89b6a-9275-410d-b0d9-9f22e619a09b",
   "metadata": {},
   "outputs": [],
   "source": [
    "fig = plt.figure(figsize=(8, 6), facecolor='white')\n",
    "ax = fig.add_subplot()\n",
    "\n",
    "for axis in ['top', 'right']:\n",
    "    ax.spines[axis].set_visible(False)\n",
    "\n",
    "sns.stripplot(data=df_delta, x='position_id', y='data', hue='group_id', dodge=True, s=7)\n",
    "\n",
    "x0, x1 = ax.get_xlim()\n",
    "y0, y1 = ax.get_ylim()\n",
    "plt.ylim(y0, y1)\n",
    "plt.ylabel('delta HR [mean stim HR - mean baseline HR]')\n",
    "plt.hlines(0, x0, x1, color='k')\n",
    "plt.vlines(0.5, y0, y1, color='gray', linestyle='dashed')\n",
    "plt.vlines(1.5, y0, y1, color='gray', linestyle='dashed')\n",
    "plt.legend(loc='center left', title='group_id', bbox_to_anchor=(1, 0.5), frameon=False)\n",
    "plt.title('all data - delta')\n",
    "plt.tight_layout()\n",
    "img_filename = os.getcwd() + '/Plots/Variance/all_data_groupID_per_positionID_delta_stripplot.png'\n",
    "plt.savefig(img_filename, dpi=300)\n",
    "plt.show()"
   ]
  },
  {
   "cell_type": "code",
   "execution_count": null,
   "id": "647043e5-6e06-4459-a6c5-405c3ab58eae",
   "metadata": {},
   "outputs": [],
   "source": [
    "fig = plt.figure(figsize=(8, 6), facecolor='white')\n",
    "ax = fig.add_subplot()\n",
    "\n",
    "for axis in ['top', 'right']:\n",
    "    ax.spines[axis].set_visible(False)\n",
    "\n",
    "sns.stripplot(data=df_delta, x='position_id', y='data', hue='subject_id', dodge=True, s=7)\n",
    "\n",
    "x0, x1 = ax.get_xlim()\n",
    "y0, y1 = ax.get_ylim()\n",
    "plt.ylim(y0, y1)\n",
    "plt.ylabel('delta HR [mean stim HR - mean baseline HR]')\n",
    "plt.hlines(0, x0, x1, color='k')\n",
    "plt.vlines(0.5, y0, y1, color='gray', linestyle='dashed')\n",
    "plt.vlines(1.5, y0, y1, color='gray', linestyle='dashed')\n",
    "plt.legend(loc='center left', title='subject_id', bbox_to_anchor=(1, 0.5), frameon=False)\n",
    "plt.title('all data - delta')\n",
    "plt.tight_layout()\n",
    "img_filename = os.getcwd() + '/Plots/Variance/all_data_subjectID_per_positionID_delta_stripplot.png'\n",
    "plt.savefig(img_filename, dpi=300)\n",
    "plt.show()"
   ]
  },
  {
   "cell_type": "code",
   "execution_count": null,
   "id": "e3b2bccc-0ff2-4ddb-a829-8685c887178e",
   "metadata": {},
   "outputs": [],
   "source": []
  },
  {
   "cell_type": "code",
   "execution_count": null,
   "id": "d1359de3-9100-46f5-b7a6-fe935ad35946",
   "metadata": {},
   "outputs": [],
   "source": []
  },
  {
   "cell_type": "markdown",
   "id": "0eb686a9-8105-45fe-b15a-b002b982052a",
   "metadata": {},
   "source": [
    "## Daten von #60 Chat-Cre für Stim 2 fehlen\n",
    "## Teildaten von #62 Chat-Cre von Session 2 fehlen"
   ]
  },
  {
   "cell_type": "code",
   "execution_count": null,
   "id": "d71b57c3-05c7-4098-b83b-e7e69f8542c5",
   "metadata": {},
   "outputs": [],
   "source": [
    "annotations = {}\n",
    "group_id = 0\n",
    "l_first_lvl_keys = list(stat_results.keys())\n",
    "l_second_lvl_keys = []\n",
    "for first_lvl_key in l_first_lvl_keys:\n",
    "    l_temp = [elem for elem in stat_results[first_lvl_key].keys() if elem not in l_second_lvl_keys]\n",
    "    if len(l_temp) > 0:\n",
    "        for key in l_temp:\n",
    "            l_second_lvl_keys.append(key)"
   ]
  },
  {
   "cell_type": "code",
   "execution_count": null,
   "id": "05f891f3-4739-4f24-94a5-1ea1314aaff0",
   "metadata": {},
   "outputs": [],
   "source": [
    "l_second_lvl_keys"
   ]
  },
  {
   "cell_type": "code",
   "execution_count": null,
   "id": "a8a3e9fc-9596-40a5-8797-9a27a0c75910",
   "metadata": {},
   "outputs": [],
   "source": [
    "\n",
    "\n",
    "\n",
    "splitted_groups = split_data_in_groups(data_norm, 'data (nomalized)', 'stimulus_id', ['10Hz_10ms_30s', '20Hz_10ms_30s', 'Cst_30s'], 'session_id', [1, 2])"
   ]
  },
  {
   "cell_type": "code",
   "execution_count": null,
   "id": "9ae9f117-3812-47b8-a586-67b59024af20",
   "metadata": {},
   "outputs": [],
   "source": []
  },
  {
   "cell_type": "code",
   "execution_count": null,
   "id": "1a1d266f-d70d-4fcd-9075-251506b919b3",
   "metadata": {},
   "outputs": [],
   "source": [
    "fig = plt.figure(figsize=(10, 7), facecolor='white')\n",
    "ax = fig.add_subplot()\n",
    "\n",
    "data_norm = d_dfs['delta'].copy()\n",
    "\n",
    "sns.stripplot(data=data_norm, x='stimulus_id', y='data (nomalized)', hue='position_id', dodge=True, ax = ax)\n",
    "y = data_norm['data (nomalized)'].max() * 1.05\n",
    "y_lim_upper = round(data_norm['data (nomalized)'].max() * 1.1, 0)\n",
    "y_lim_lower = round(data_norm['data (nomalized)'].min() - data_norm['data (nomalized)'].min() * 0.05, 0)\n",
    "for key in d_annotations.keys():\n",
    "    plt.text(d_annotations[key]['x'], y, d_annotations[key]['stars'], ha='center', va='bottom', color='k')\n",
    "plt.ylim(y_lim_lower,y_lim_upper)\n",
    "plt.legend(loc='center left', title='position_id', bbox_to_anchor=(1, 0.5), frameon=False)\n",
    "\n",
    "\n",
    "plt.show()"
   ]
  },
  {
   "cell_type": "code",
   "execution_count": null,
   "id": "c3215f42-319c-4076-bf07-aee7b31dad00",
   "metadata": {},
   "outputs": [],
   "source": []
  },
  {
   "cell_type": "code",
   "execution_count": null,
   "id": "a06107dd-c750-49cf-b3b1-257d5b837c94",
   "metadata": {},
   "outputs": [],
   "source": [
    "splitted_groups"
   ]
  },
  {
   "cell_type": "code",
   "execution_count": null,
   "id": "43654451-81f0-40db-84b5-bf3def82b034",
   "metadata": {},
   "outputs": [],
   "source": [
    "stat_results = one_sample_tests_per_group(splitted_groups, 0)"
   ]
  },
  {
   "cell_type": "code",
   "execution_count": null,
   "id": "3e8f5775-c3b4-4dc4-afdf-aa9ef73528a7",
   "metadata": {},
   "outputs": [],
   "source": [
    "stat_results"
   ]
  },
  {
   "cell_type": "code",
   "execution_count": null,
   "id": "2636dd5a-0346-4eab-9832-d523cd78bae8",
   "metadata": {},
   "outputs": [],
   "source": [
    "d_annotations = annotations(stat_results)"
   ]
  },
  {
   "cell_type": "code",
   "execution_count": null,
   "id": "4794fb53-7e87-472f-8cbf-387720c73f23",
   "metadata": {},
   "outputs": [],
   "source": [
    "d_annotations"
   ]
  },
  {
   "cell_type": "code",
   "execution_count": null,
   "id": "1a23d986-7778-439c-a4eb-f77a3593b654",
   "metadata": {},
   "outputs": [],
   "source": []
  }
 ],
 "metadata": {
  "kernelspec": {
   "display_name": "Python 3 (ipykernel)",
   "language": "python",
   "name": "python3"
  },
  "language_info": {
   "codemirror_mode": {
    "name": "ipython",
    "version": 3
   },
   "file_extension": ".py",
   "mimetype": "text/x-python",
   "name": "python",
   "nbconvert_exporter": "python",
   "pygments_lexer": "ipython3",
   "version": "3.8.5"
  }
 },
 "nbformat": 4,
 "nbformat_minor": 5
}
