{
 "cells": [
  {
   "cell_type": "code",
   "execution_count": 158,
   "id": "trained-painting",
   "metadata": {},
   "outputs": [],
   "source": [
    "import pandas as pd\n",
    "import numpy as np\n",
    "import matplotlib.pyplot as plt\n",
    "import os\n",
    "import seaborn as sns\n",
    "import pingouin as pg\n",
    "\n",
    "%matplotlib inline"
   ]
  },
  {
   "cell_type": "markdown",
   "id": "sized-exemption",
   "metadata": {},
   "source": [
    "# Import the data"
   ]
  },
  {
   "cell_type": "code",
   "execution_count": 159,
   "id": "usual-quality",
   "metadata": {},
   "outputs": [],
   "source": [
    "path_cohort_1 = '/home/ds/Ntrk2_KOs/2018_12/HP/2018-12-19_Hotplate_Ntrk2_Rohr.xlsx'\n",
    "df_1 = pd.read_excel(path_cohort_1)"
   ]
  },
  {
   "cell_type": "code",
   "execution_count": 160,
   "id": "working-testimony",
   "metadata": {},
   "outputs": [],
   "source": [
    "path_cohort_2 = '/home/ds/Ntrk2_KOs/2019_07/HP/Hotplate_cohort_2.xlsx'\n",
    "df_2 = pd.read_excel(path_cohort_2)"
   ]
  },
  {
   "cell_type": "markdown",
   "id": "electronic-geology",
   "metadata": {},
   "source": [
    "# Preprocessing:"
   ]
  },
  {
   "cell_type": "code",
   "execution_count": 161,
   "id": "printable-delight",
   "metadata": {},
   "outputs": [],
   "source": [
    "# Preprocessing of cohort 1:\n",
    "# Adapt column names\n",
    "df_1.columns = ['Tier Nr.', 'Latenz', 'Grund']\n",
    "\n",
    "# Add information about group and cohort ids:\n",
    "l_group_ids = ['tg', 'tg', 'tg', 'wt', 'tg', 'tg', 'tg', 'wt', 'wt', 'wt', 'wt']\n",
    "l_group_ids.reverse()\n",
    "df_1['Gruppe'] = l_group_ids\n",
    "df_1['Kohorte'] = 0\n",
    "\n",
    "# Change column order\n",
    "df_1 = df_1[['Tier Nr.', 'Gruppe', 'Kohorte', 'Latenz', 'Grund']]"
   ]
  },
  {
   "cell_type": "code",
   "execution_count": 162,
   "id": "sapphire-detector",
   "metadata": {},
   "outputs": [],
   "source": [
    "# Preprocessing data of cohort 2:\n",
    "# Select columns with data about wts and kos:\n",
    "df_21 = df_2[list(df_2.columns)[:3]].copy()\n",
    "df_22 = df_2[list(df_2.columns)[-3:]].copy()\n",
    "\n",
    "# Adapt column names and concat to single df\n",
    "df_21.columns = ['Tier Nr.', 'Latenz', 'Gruppe']\n",
    "df_22.columns = ['Tier Nr.', 'Latenz', 'Gruppe']\n",
    "\n",
    "# Rename kos as tg:\n",
    "df_22['Gruppe'] = 'tg'\n",
    "\n",
    "df_2 = pd.concat([df_21, df_22])\n",
    "\n",
    "# Add information about cohort\n",
    "df_2['Kohorte'] = 1\n",
    "\n",
    "# Change column order\n",
    "df_2 = df_2[['Tier Nr.', 'Gruppe', 'Kohorte', 'Latenz']]"
   ]
  },
  {
   "cell_type": "code",
   "execution_count": 163,
   "id": "impossible-authorization",
   "metadata": {},
   "outputs": [],
   "source": [
    "df = pd.concat([df_1, df_2])\n",
    "df.to_csv('HP_cohorts_1_and_2.csv')"
   ]
  },
  {
   "cell_type": "markdown",
   "id": "satellite-shakespeare",
   "metadata": {},
   "source": [
    "# __Calculate statstics__"
   ]
  },
  {
   "cell_type": "code",
   "execution_count": 224,
   "id": "floral-circle",
   "metadata": {},
   "outputs": [
    {
     "data": {
      "text/plain": [
       "{'normality_wt': (True, 0.083),\n",
       " 'normality_tg': (True, 0.447),\n",
       " 'equal_var': (True, 0.914),\n",
       " 'pairwise_test': ('ttest', False, 0.2963)}"
      ]
     },
     "execution_count": 224,
     "metadata": {},
     "output_type": "execute_result"
    }
   ],
   "source": [
    "d_stats = {}\n",
    "\n",
    "# Retrieve data\n",
    "data_wt = list(df.loc[df['Gruppe'] == 'wt', 'Latenz'].values)\n",
    "data_tg = list(df.loc[df['Gruppe'] == 'tg', 'Latenz'].values)\n",
    "\n",
    "# Test for normal distribution (Shapiro):\n",
    "d_stats['normality_wt'] = (pg.normality(data_wt).loc[0, 'normal'], pg.normality(data_wt).loc[0, 'pval'].round(3))\n",
    "d_stats['normality_tg'] = (pg.normality(data_tg).loc[0, 'normal'], pg.normality(data_tg).loc[0, 'pval'].round(3))\n",
    "\n",
    "# Test for homoscesdasticity (Levenes):\n",
    "d_stats['equal_var'] = (pg.homoscedasticity([data_wt, data_tg]).loc['levene', 'equal_var'], pg.homoscedasticity([data_wt, data_tg]).loc['levene', 'pval'].round(3))\n",
    "\n",
    "# Perform either parametric or non-parametric pairwise test:\n",
    "if (d_stats['normality_wt'][0] == True) & (d_stats['normality_tg'][0] == True) & (d_stats['equal_var'][0] == True):\n",
    "    d_stats['pairwise_test'] = ('ttest', pg.ttest(x=data_wt, y=data_tg).loc['T-test', 'p-val'].round(4) <= 0.05, pg.ttest(x=data_wt, y=data_tg).loc['T-test', 'p-val'].round(4))\n",
    "else:\n",
    "    d_stats['pairwise_test'] = ('MWU', pg.mwu(x=data_wt, y=data_tg).loc['MWU', 'p-val'].round(4) <= 0.05, pg.mwu(x=data_wt, y=data_tg).loc['MWU', 'p-val'].round(4))\n",
    "    \n",
    "d_stats"
   ]
  },
  {
   "cell_type": "markdown",
   "id": "facial-nudist",
   "metadata": {},
   "source": [
    "# __Plot results__"
   ]
  },
  {
   "cell_type": "markdown",
   "id": "growing-necessity",
   "metadata": {},
   "source": [
    "## Setup figure design and annotate_stats function:"
   ]
  },
  {
   "cell_type": "code",
   "execution_count": 246,
   "id": "clean-layout",
   "metadata": {},
   "outputs": [],
   "source": [
    "SMALL_SIZE = 16\n",
    "MEDIUM_SIZE = 17\n",
    "BIGGER_SIZE = 19\n",
    "LINE_WIDTH = 2\n",
    "SIZE = 9\n",
    "\n",
    "plt.rc('font', size=SMALL_SIZE)          # controls default text sizes\n",
    "plt.rc('axes', titlesize=MEDIUM_SIZE)    # fontsize of the axes title\n",
    "plt.rc('axes', labelsize=MEDIUM_SIZE)    # fontsize of the x and y labels \n",
    "plt.rc('axes', linewidth=LINE_WIDTH)     # linewidth of x and y axis\n",
    "plt.rc('xtick', labelsize=SMALL_SIZE)    # fontsize of the tick labels\n",
    "plt.rc('xtick.major', size=10)    # linewidth of x ticks\n",
    "plt.rc('ytick', labelsize=SMALL_SIZE)    # fontsize of the tick labels\n",
    "plt.rc('ytick.major', size=10)    # linewidth of y ticks\n",
    "plt.rc('legend', fontsize=SMALL_SIZE)    # legend fontsize\n",
    "plt.rc('figure', titlesize=BIGGER_SIZE)  # fontsize of the figure title\n",
    "\n",
    "\n",
    "def annotate_stats_gt(data_grp1, data_grp2, axis, subplot):\n",
    "    max_total = max([max(data_grp1), max(data_grp2)])\n",
    "    x1, x2 = 0, 1\n",
    "    y, h, col = max_total + max_total * 0.05, max_total * 0.05, 'k'\n",
    "    stars = '$\\it{n.s.}$'\n",
    "    if d_stats['pairwise_test'][2] < 0.001:\n",
    "        subplot = axis.plot([x1, x2], [y+h, y+h], lw=1.5, c=col)\n",
    "        stars = '***'\n",
    "    elif d_stats['pairwise_test'][2] < 0.01:\n",
    "        subplot = axis.plot([x1, x2], [y+h, y+h], lw=1.5, c=col)\n",
    "        stars = '**'\n",
    "    elif d_stats['pairwise_test'][2] < 0.05:\n",
    "        subplot = axis.plot([x1, x2], [y+h, y+h], lw=1.5, c=col)\n",
    "        stars = '*'\n",
    "\n",
    "    subplot = axis.text((x1+x2)*.5, max_total, stars, ha='center', va='bottom', color=col)\n",
    "\n",
    "    labels = ['WT', '$\\it{Ntrk2}$$^{+/-}$']\n",
    "\n",
    "    axis.axes.set_xticklabels(labels)\n",
    "    axis.spines['right'].set_visible(False)\n",
    "    axis.spines['top'].set_visible(False)\n",
    "    axis.axes.set_ylabel('latency [s]')"
   ]
  },
  {
   "cell_type": "markdown",
   "id": "paperback-offense",
   "metadata": {},
   "source": [
    "## Latency to react:"
   ]
  },
  {
   "cell_type": "code",
   "execution_count": 249,
   "id": "large-surveillance",
   "metadata": {},
   "outputs": [
    {
     "data": {
      "image/png": "[encoded data removed]",
      "text/plain": [
       "<Figure size 720x504 with 1 Axes>"
      ]
     },
     "metadata": {},
     "output_type": "display_data"
    }
   ],
   "source": [
    "fig = plt.figure(figsize=(10, 7), facecolor='w')\n",
    "\n",
    "ax1 = fig.add_subplot()\n",
    "plt_hp = sns.stripplot(data=df, x='Gruppe', y='Latenz', hue='Kohorte', size=SIZE, palette='colorblind', ax=ax1)\n",
    "annotate_stats_gt(data_wt, data_tg, ax1, plt_hp)\n",
    "current_handles, current_labels = plt.gca().get_legend_handles_labels()\n",
    "current_labels = ['cohort 1', 'cohort 2']\n",
    "plt.legend(current_handles, current_labels, ncol=1, loc='center right', frameon=False, bbox_to_anchor=(1.25, 0.5))\n",
    "plt.ylabel('latency to react [s]')\n",
    "plt.xlabel('')\n",
    "\n",
    "plt.ylim(0)\n",
    "\n",
    "\n",
    "\n",
    "\n",
    "plt.tight_layout()\n",
    "plt.savefig('HotPlate.png', dpi=300)\n",
    "\n",
    "plt.show()"
   ]
  },
  {
   "cell_type": "code",
   "execution_count": null,
   "id": "earlier-majority",
   "metadata": {},
   "outputs": [],
   "source": []
  }
 ],
 "metadata": {
  "kernelspec": {
   "display_name": "Python 3",
   "language": "python",
   "name": "python3"
  },
  "language_info": {
   "codemirror_mode": {
    "name": "ipython",
    "version": 3
   },
   "file_extension": ".py",
   "mimetype": "text/x-python",
   "name": "python",
   "nbconvert_exporter": "python",
   "pygments_lexer": "ipython3",
   "version": "3.8.5"
  }
 },
 "nbformat": 4,
 "nbformat_minor": 5
}
